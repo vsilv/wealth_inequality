{
 "cells": [
  {
   "cell_type": "code",
   "execution_count": 5,
   "metadata": {
    "collapsed": false
   },
   "outputs": [
    {
     "name": "stdout",
     "output_type": "stream",
     "text": [
      "The autoreload extension is already loaded. To reload it, use:\n",
      "  %reload_ext autoreload\n"
     ]
    },
    {
     "data": {
      "text/plain": [
       "<matplotlib.figure.Figure at 0x7fbd61fccf98>"
      ]
     },
     "metadata": {},
     "output_type": "display_data"
    }
   ],
   "source": [
    "# %load styles.py\n",
    "import matplotlib.pyplot as plt\n",
    "%matplotlib inline\n",
    "%load_ext autoreload\n",
    "%autoreload 2\n",
    "from matplotlib.colors import colorConverter\n",
    "import prettyplotlib as ppl\n",
    "from matplotlib import rcParams\n",
    "import seaborn as sns\n",
    "\n",
    "sns.set(style='ticks', palette='Set1') \n",
    "sns.despine()\n",
    "\n",
    "import itertools\n",
    "\n",
    "# These are the colors. Notice how this is programmed:\n",
    "# You initialize your colors by \n",
    "# colorset = palette()\n",
    "# then you can cycle through the colors:\n",
    "# color = next(colorset)\n",
    "# if you want your set to be reset, just create\n",
    "# a new palette() instance! This way the colors do not interfere.\n",
    "\n",
    "color_names = ['windows blue', \"pale red\", \"faded green\", \"amber\", \n",
    "          'dark green', 'dark fuchsia', 'browny orange', \n",
    "          'puke green', 'dark royal blue', 'dusty purple', \n",
    "               'red orange','dark grey','blue grey', 'bright purple', 'chocolate brown',\n",
    "              'shit', 'pistachio','stone','asparagus','butter']\n",
    "\n",
    "colors = sns.xkcd_palette(color_names)\n",
    "palette = lambda: itertools.cycle(sns.xkcd_palette(color_names) )\n",
    "\n",
    "fontsize_labels = 26    # size used in latex document\n",
    "rcParams['text.latex.preamble'] = [r'\\usepackage[cmbright]{sfmath}']\n",
    "rcParams['font.family']= 'sans-serif'\n",
    "rcParams['font.sans-serif']= 'cmbright'\n",
    "rcParams['font.weight'] = \"light\"\n",
    "\n",
    "rcParams['text.usetex'] = True\n",
    "\n",
    "rcParams['figure.autolayout'] = True\n",
    "rcParams['font.size'] = fontsize_labels\n",
    "rcParams['axes.labelsize'] = fontsize_labels\n",
    "rcParams['xtick.labelsize'] = fontsize_labels\n",
    "rcParams['ytick.labelsize'] = fontsize_labels\n",
    "rcParams['legend.fontsize'] = fontsize_labels\n",
    "rcParams['legend.markerscale'] = 4\n",
    "rcParams['axes.titlesize'] = fontsize_labels\n",
    "rcParams['text.color'] = \"0.3\"\n",
    "rcParams['xtick.color'] = \"0.3\"\n",
    "rcParams['ytick.color'] = \"0.3\"\n",
    "rcParams['axes.labelcolor'] = \"0.3\"\n",
    "rcParams['axes.edgecolor'] = \"0.8\"\n",
    "rcParams['axes.formatter.limits'] = (-2,3)\n",
    "\n",
    "xfactor = 2\n",
    "rcParams['figure.figsize'] = (xfactor*6.2, xfactor*3.83)  \n",
    "\n",
    "fig_dir = \"./figures/\"  # directory of figures\n",
    "save_fig = True\n",
    "\n",
    "def savefig(filename):\n",
    "    if save_fig == True:\n",
    "        plt.savefig(fig_dir+filename+\".pdf\")\n",
    "\n",
    "def fixticks(ax):    \n",
    "    for t in ax.xaxis.get_ticklines(): t.set_color('0.8')\n",
    "    for t in ax.yaxis.get_ticklines(): t.set_color('0.8')\n"
   ]
  },
  {
   "cell_type": "code",
   "execution_count": 52,
   "metadata": {
    "collapsed": true
   },
   "outputs": [],
   "source": [
    "import pandas as pd\n",
    "import numpy as np"
   ]
  },
  {
   "cell_type": "code",
   "execution_count": 28,
   "metadata": {
    "collapsed": true
   },
   "outputs": [],
   "source": [
    "xl = pd.ExcelFile(\"./report.xlsx\")"
   ]
  },
  {
   "cell_type": "code",
   "execution_count": 29,
   "metadata": {
    "collapsed": false
   },
   "outputs": [
    {
     "data": {
      "text/plain": [
       "['Sources', 'Series-layout A', 'Units and Notes-layout A', 'Series-layout B']"
      ]
     },
     "execution_count": 29,
     "metadata": {},
     "output_type": "execute_result"
    }
   ],
   "source": [
    "xl.sheet_names"
   ]
  },
  {
   "cell_type": "code",
   "execution_count": 30,
   "metadata": {
    "collapsed": true
   },
   "outputs": [],
   "source": [
    "data = xl.parse(\"Series-layout A\")"
   ]
  },
  {
   "cell_type": "code",
   "execution_count": 31,
   "metadata": {
    "collapsed": false
   },
   "outputs": [
    {
     "data": {
      "text/html": [
       "<div>\n",
       "<table border=\"1\" class=\"dataframe\">\n",
       "  <thead>\n",
       "    <tr style=\"text-align: right;\">\n",
       "      <th></th>\n",
       "      <th>Variable code</th>\n",
       "      <th>Unnamed: 1</th>\n",
       "      <th>1110101</th>\n",
       "      <th>1110201</th>\n",
       "      <th>1110301</th>\n",
       "      <th>1110401</th>\n",
       "      <th>1110501</th>\n",
       "      <th>1110701</th>\n",
       "      <th>1120101</th>\n",
       "      <th>1120201</th>\n",
       "      <th>...</th>\n",
       "      <th>Unnamed: 51</th>\n",
       "      <th>Unnamed: 52</th>\n",
       "      <th>Unnamed: 53</th>\n",
       "      <th>Unnamed: 54</th>\n",
       "      <th>Unnamed: 55</th>\n",
       "      <th>Unnamed: 56</th>\n",
       "      <th>Unnamed: 57</th>\n",
       "      <th>Unnamed: 58</th>\n",
       "      <th>Unnamed: 59</th>\n",
       "      <th>Unnamed: 60</th>\n",
       "    </tr>\n",
       "  </thead>\n",
       "  <tbody>\n",
       "    <tr>\n",
       "      <th>0</th>\n",
       "      <td>Country</td>\n",
       "      <td>Year</td>\n",
       "      <td>Top 10% income share</td>\n",
       "      <td>Top 5% income share</td>\n",
       "      <td>Top 1% income share</td>\n",
       "      <td>Top 0.5% income share</td>\n",
       "      <td>Top 0.1% income share</td>\n",
       "      <td>Top 0.01% income share</td>\n",
       "      <td>Top 10-5% income share</td>\n",
       "      <td>Top 5-1% income share</td>\n",
       "      <td>...</td>\n",
       "      <td>Top 0.5-0.1% average income-including capital ...</td>\n",
       "      <td>Top 0.1-0.01% average income-including capital...</td>\n",
       "      <td>P90 income threshold-including capital gains</td>\n",
       "      <td>P95 income threshold-including capital gains</td>\n",
       "      <td>P99 income threshold-including capital gains</td>\n",
       "      <td>P99.5 income threshold-including capital gains</td>\n",
       "      <td>P99.9 income threshold-including capital gains</td>\n",
       "      <td>P99.99 income threshold-including capital gains</td>\n",
       "      <td>Pareto-Lorenz coefficient</td>\n",
       "      <td>Inverted Pareto-Lorenz coefficient</td>\n",
       "    </tr>\n",
       "    <tr>\n",
       "      <th>1</th>\n",
       "      <td>Germany</td>\n",
       "      <td>1891</td>\n",
       "      <td>37.92</td>\n",
       "      <td>29.95</td>\n",
       "      <td>17.28</td>\n",
       "      <td>13.56</td>\n",
       "      <td>7.44</td>\n",
       "      <td>2.79</td>\n",
       "      <td>7.97</td>\n",
       "      <td>12.67</td>\n",
       "      <td>...</td>\n",
       "      <td>NaN</td>\n",
       "      <td>NaN</td>\n",
       "      <td>NaN</td>\n",
       "      <td>NaN</td>\n",
       "      <td>NaN</td>\n",
       "      <td>NaN</td>\n",
       "      <td>NaN</td>\n",
       "      <td>NaN</td>\n",
       "      <td>NaN</td>\n",
       "      <td>NaN</td>\n",
       "    </tr>\n",
       "    <tr>\n",
       "      <th>2</th>\n",
       "      <td>Germany</td>\n",
       "      <td>1892</td>\n",
       "      <td>37.47</td>\n",
       "      <td>29.45</td>\n",
       "      <td>16.81</td>\n",
       "      <td>13.15</td>\n",
       "      <td>7.18</td>\n",
       "      <td>2.67</td>\n",
       "      <td>8.02</td>\n",
       "      <td>12.64</td>\n",
       "      <td>...</td>\n",
       "      <td>NaN</td>\n",
       "      <td>NaN</td>\n",
       "      <td>NaN</td>\n",
       "      <td>NaN</td>\n",
       "      <td>NaN</td>\n",
       "      <td>NaN</td>\n",
       "      <td>NaN</td>\n",
       "      <td>NaN</td>\n",
       "      <td>NaN</td>\n",
       "      <td>NaN</td>\n",
       "    </tr>\n",
       "    <tr>\n",
       "      <th>3</th>\n",
       "      <td>Germany</td>\n",
       "      <td>1893</td>\n",
       "      <td>37.21</td>\n",
       "      <td>29.21</td>\n",
       "      <td>16.59</td>\n",
       "      <td>12.95</td>\n",
       "      <td>7.04</td>\n",
       "      <td>2.61</td>\n",
       "      <td>8.01</td>\n",
       "      <td>12.62</td>\n",
       "      <td>...</td>\n",
       "      <td>NaN</td>\n",
       "      <td>NaN</td>\n",
       "      <td>NaN</td>\n",
       "      <td>NaN</td>\n",
       "      <td>NaN</td>\n",
       "      <td>NaN</td>\n",
       "      <td>NaN</td>\n",
       "      <td>NaN</td>\n",
       "      <td>NaN</td>\n",
       "      <td>NaN</td>\n",
       "    </tr>\n",
       "    <tr>\n",
       "      <th>4</th>\n",
       "      <td>Germany</td>\n",
       "      <td>1894</td>\n",
       "      <td>37.13</td>\n",
       "      <td>29.18</td>\n",
       "      <td>16.59</td>\n",
       "      <td>12.98</td>\n",
       "      <td>7.1</td>\n",
       "      <td>2.66</td>\n",
       "      <td>7.94</td>\n",
       "      <td>12.59</td>\n",
       "      <td>...</td>\n",
       "      <td>NaN</td>\n",
       "      <td>NaN</td>\n",
       "      <td>NaN</td>\n",
       "      <td>NaN</td>\n",
       "      <td>NaN</td>\n",
       "      <td>NaN</td>\n",
       "      <td>NaN</td>\n",
       "      <td>NaN</td>\n",
       "      <td>NaN</td>\n",
       "      <td>NaN</td>\n",
       "    </tr>\n",
       "  </tbody>\n",
       "</table>\n",
       "<p>5 rows × 61 columns</p>\n",
       "</div>"
      ],
      "text/plain": [
       "  Variable code Unnamed: 1               1110101              1110201  \\\n",
       "0       Country       Year  Top 10% income share  Top 5% income share   \n",
       "1       Germany       1891                 37.92                29.95   \n",
       "2       Germany       1892                 37.47                29.45   \n",
       "3       Germany       1893                 37.21                29.21   \n",
       "4       Germany       1894                 37.13                29.18   \n",
       "\n",
       "               1110301                1110401                1110501  \\\n",
       "0  Top 1% income share  Top 0.5% income share  Top 0.1% income share   \n",
       "1                17.28                  13.56                   7.44   \n",
       "2                16.81                  13.15                   7.18   \n",
       "3                16.59                  12.95                   7.04   \n",
       "4                16.59                  12.98                    7.1   \n",
       "\n",
       "                  1110701                 1120101                1120201  \\\n",
       "0  Top 0.01% income share  Top 10-5% income share  Top 5-1% income share   \n",
       "1                    2.79                    7.97                  12.67   \n",
       "2                    2.67                    8.02                  12.64   \n",
       "3                    2.61                    8.01                  12.62   \n",
       "4                    2.66                    7.94                  12.59   \n",
       "\n",
       "                  ...                  \\\n",
       "0                 ...                   \n",
       "1                 ...                   \n",
       "2                 ...                   \n",
       "3                 ...                   \n",
       "4                 ...                   \n",
       "\n",
       "                                         Unnamed: 51  \\\n",
       "0  Top 0.5-0.1% average income-including capital ...   \n",
       "1                                                NaN   \n",
       "2                                                NaN   \n",
       "3                                                NaN   \n",
       "4                                                NaN   \n",
       "\n",
       "                                         Unnamed: 52  \\\n",
       "0  Top 0.1-0.01% average income-including capital...   \n",
       "1                                                NaN   \n",
       "2                                                NaN   \n",
       "3                                                NaN   \n",
       "4                                                NaN   \n",
       "\n",
       "                                    Unnamed: 53  \\\n",
       "0  P90 income threshold-including capital gains   \n",
       "1                                           NaN   \n",
       "2                                           NaN   \n",
       "3                                           NaN   \n",
       "4                                           NaN   \n",
       "\n",
       "                                    Unnamed: 54  \\\n",
       "0  P95 income threshold-including capital gains   \n",
       "1                                           NaN   \n",
       "2                                           NaN   \n",
       "3                                           NaN   \n",
       "4                                           NaN   \n",
       "\n",
       "                                    Unnamed: 55  \\\n",
       "0  P99 income threshold-including capital gains   \n",
       "1                                           NaN   \n",
       "2                                           NaN   \n",
       "3                                           NaN   \n",
       "4                                           NaN   \n",
       "\n",
       "                                      Unnamed: 56  \\\n",
       "0  P99.5 income threshold-including capital gains   \n",
       "1                                             NaN   \n",
       "2                                             NaN   \n",
       "3                                             NaN   \n",
       "4                                             NaN   \n",
       "\n",
       "                                      Unnamed: 57  \\\n",
       "0  P99.9 income threshold-including capital gains   \n",
       "1                                             NaN   \n",
       "2                                             NaN   \n",
       "3                                             NaN   \n",
       "4                                             NaN   \n",
       "\n",
       "                                       Unnamed: 58                Unnamed: 59  \\\n",
       "0  P99.99 income threshold-including capital gains  Pareto-Lorenz coefficient   \n",
       "1                                              NaN                        NaN   \n",
       "2                                              NaN                        NaN   \n",
       "3                                              NaN                        NaN   \n",
       "4                                              NaN                        NaN   \n",
       "\n",
       "                          Unnamed: 60  \n",
       "0  Inverted Pareto-Lorenz coefficient  \n",
       "1                                 NaN  \n",
       "2                                 NaN  \n",
       "3                                 NaN  \n",
       "4                                 NaN  \n",
       "\n",
       "[5 rows x 61 columns]"
      ]
     },
     "execution_count": 31,
     "metadata": {},
     "output_type": "execute_result"
    }
   ],
   "source": [
    "data.head()"
   ]
  },
  {
   "cell_type": "code",
   "execution_count": 73,
   "metadata": {
    "collapsed": false
   },
   "outputs": [
    {
     "name": "stderr",
     "output_type": "stream",
     "text": [
      "/usr/lib/python3.4/site-packages/matplotlib/figure.py:1653: UserWarning: This figure includes Axes that are not compatible with tight_layout, so its results might be incorrect.\n",
      "  warnings.warn(\"This figure includes Axes that are not \"\n"
     ]
    },
    {
     "data": {
      "image/png": "[encoded data removed]",
      "text/plain": [
       "<matplotlib.figure.Figure at 0x7fbd20c7f6a0>"
      ]
     },
     "metadata": {},
     "output_type": "display_data"
    }
   ],
   "source": [
    "fig, ax = plt.subplots()\n",
    "fixticks(ax)\n",
    "ax.xaxis.get_major_formatter().set_powerlimits((0, 6))\n",
    "top10  = data[1110101][1::]\n",
    "cc10   = top10.notnull()\n",
    "\n",
    "top5   = data[1110201][1::]\n",
    "cc5   = top5.notnull()\n",
    "\n",
    "top1   = data[1110301][1::]\n",
    "cc1   = top1.notnull()\n",
    "\n",
    "top05  = data[1110401][1::]\n",
    "cc05   = top05.notnull()\n",
    "\n",
    "top01  = data[1110501][1::]\n",
    "cc01   = top01.notnull()\n",
    "\n",
    "top001 = data[1110701][1::]\n",
    "cc001   = top001.notnull()\n",
    "\n",
    "ax.plot((data[\"Unnamed: 1\"][1::])[cc10], top10[cc10],\".\", label = \"Top 10\\%\")\n",
    "ax.plot((data[\"Unnamed: 1\"][1::])[cc5], top5[cc5],\".\", label = \"Top 5\\%\")\n",
    "ax.plot((data[\"Unnamed: 1\"][1::])[cc1], top1[cc1],\".\", label = \"Top 1\\%\")\n",
    "ax.legend(loc = (1.02,0))\n",
    "\n",
    "plt.show()"
   ]
  },
  {
   "cell_type": "code",
   "execution_count": 66,
   "metadata": {
    "collapsed": false
   },
   "outputs": [
    {
     "data": {
      "text/plain": [
       "Index(['Variable code',    'Unnamed: 1',         1110101,         1110201,\n",
       "               1110301,         1110401,         1110501,         1110701,\n",
       "               1120101,         1120201,         1120301,         1120401,\n",
       "               1120701,         1210101,         1210201,         1210301,\n",
       "               1210401,         1210501,         1210701,         1220101,\n",
       "               1220201,         1220301,         1220401,         1220701,\n",
       "         'Unnamed: 24',   'Unnamed: 25',   'Unnamed: 26',   'Unnamed: 27',\n",
       "         'Unnamed: 28',   'Unnamed: 29',   'Unnamed: 30',   'Unnamed: 31',\n",
       "         'Unnamed: 32',   'Unnamed: 33',   'Unnamed: 34',   'Unnamed: 35',\n",
       "         'Unnamed: 36',   'Unnamed: 37',   'Unnamed: 38',   'Unnamed: 39',\n",
       "         'Unnamed: 40',   'Unnamed: 41',   'Unnamed: 42',   'Unnamed: 43',\n",
       "         'Unnamed: 44',   'Unnamed: 45',   'Unnamed: 46',   'Unnamed: 47',\n",
       "         'Unnamed: 48',   'Unnamed: 49',   'Unnamed: 50',   'Unnamed: 51',\n",
       "         'Unnamed: 52',   'Unnamed: 53',   'Unnamed: 54',   'Unnamed: 55',\n",
       "         'Unnamed: 56',   'Unnamed: 57',   'Unnamed: 58',   'Unnamed: 59',\n",
       "         'Unnamed: 60'],\n",
       "      dtype='object')"
      ]
     },
     "execution_count": 66,
     "metadata": {},
     "output_type": "execute_result"
    }
   ],
   "source": [
    "data"
   ]
  },
  {
   "cell_type": "code",
   "execution_count": null,
   "metadata": {
    "collapsed": true
   },
   "outputs": [],
   "source": []
  }
 ],
 "metadata": {
  "kernelspec": {
   "display_name": "Python 3",
   "language": "python",
   "name": "python3"
  },
  "language_info": {
   "codemirror_mode": {
    "name": "ipython",
    "version": 3
   },
   "file_extension": ".py",
   "mimetype": "text/x-python",
   "name": "python",
   "nbconvert_exporter": "python",
   "pygments_lexer": "ipython3",
   "version": "3.4.3"
  }
 },
 "nbformat": 4,
 "nbformat_minor": 0
}
