{
 "cells": [
  {
   "cell_type": "code",
   "execution_count": 3,
   "metadata": {
    "collapsed": false
   },
   "outputs": [
    {
     "name": "stdout",
     "output_type": "stream",
     "text": [
      "The autoreload extension is already loaded. To reload it, use:\n",
      "  %reload_ext autoreload\n"
     ]
    },
    {
     "data": {
      "text/plain": [
       "<matplotlib.figure.Figure at 0x7fbd3f1d2390>"
      ]
     },
     "metadata": {},
     "output_type": "display_data"
    }
   ],
   "source": [
    "# %load styles.py\n",
    "import matplotlib.pyplot as plt\n",
    "%matplotlib inline\n",
    "%load_ext autoreload\n",
    "%autoreload 2\n",
    "from matplotlib.colors import colorConverter\n",
    "import prettyplotlib as ppl\n",
    "from matplotlib import rcParams\n",
    "import seaborn as sns\n",
    "\n",
    "sns.set(style='ticks', palette='Set1') \n",
    "sns.despine()\n",
    "\n",
    "import itertools\n",
    "\n",
    "# These are the colors. Notice how this is programmed:\n",
    "# You initialize your colors by \n",
    "# colorset = palette()\n",
    "# then you can cycle through the colors:\n",
    "# color = next(colorset)\n",
    "# if you want your set to be reset, just create\n",
    "# a new palette() instance! This way the colors do not interfere.\n",
    "\n",
    "color_names = ['windows blue', \"pale red\", \"faded green\", \"amber\", \n",
    "          'dark green', 'dark fuchsia', 'browny orange', \n",
    "          'puke green', 'dark royal blue', 'dusty purple', \n",
    "               'red orange','dark grey','blue grey', 'bright purple', 'chocolate brown',\n",
    "              'shit', 'pistachio','stone','asparagus','butter']\n",
    "\n",
    "colors = sns.xkcd_palette(color_names)\n",
    "palette = lambda: itertools.cycle(sns.xkcd_palette(color_names) )\n",
    "\n",
    "fontsize_labels = 26    # size used in latex document\n",
    "rcParams['text.latex.preamble'] = [r'\\usepackage[cmbright]{sfmath}']\n",
    "rcParams['font.family']= 'sans-serif'\n",
    "rcParams['font.sans-serif']= 'cmbright'\n",
    "rcParams['font.weight'] = \"light\"\n",
    "\n",
    "rcParams['text.usetex'] = True\n",
    "\n",
    "rcParams['figure.autolayout'] = True\n",
    "rcParams['font.size'] = fontsize_labels\n",
    "rcParams['axes.labelsize'] = fontsize_labels\n",
    "rcParams['xtick.labelsize'] = fontsize_labels\n",
    "rcParams['ytick.labelsize'] = fontsize_labels\n",
    "rcParams['legend.fontsize'] = fontsize_labels\n",
    "rcParams['legend.markerscale'] = 4\n",
    "rcParams['axes.titlesize'] = fontsize_labels\n",
    "rcParams['text.color'] = \"0.3\"\n",
    "rcParams['xtick.color'] = \"0.3\"\n",
    "rcParams['ytick.color'] = \"0.3\"\n",
    "rcParams['axes.labelcolor'] = \"0.3\"\n",
    "rcParams['axes.edgecolor'] = \"0.8\"\n",
    "rcParams['axes.formatter.limits'] = (-2,3)\n",
    "\n",
    "xfactor = 2\n",
    "rcParams['figure.figsize'] = (xfactor*6.2, xfactor*3.83)  \n",
    "\n",
    "fig_dir = \"./figures/\"  # directory of figures\n",
    "save_fig = True\n",
    "\n",
    "def savefig(filename):\n",
    "    if save_fig == True:\n",
    "        plt.savefig(fig_dir+filename+\".pdf\")\n",
    "\n",
    "def fixticks(ax):    \n",
    "    for t in ax.xaxis.get_ticklines(): t.set_color('0.8')\n",
    "    for t in ax.yaxis.get_ticklines(): t.set_color('0.8')\n"
   ]
  },
  {
   "cell_type": "code",
   "execution_count": null,
   "metadata": {
    "collapsed": true
   },
   "outputs": [],
   "source": []
  }
 ],
 "metadata": {
  "kernelspec": {
   "display_name": "Python 3",
   "language": "python",
   "name": "python3"
  },
  "language_info": {
   "codemirror_mode": {
    "name": "ipython",
    "version": 3
   },
   "file_extension": ".py",
   "mimetype": "text/x-python",
   "name": "python",
   "nbconvert_exporter": "python",
   "pygments_lexer": "ipython3",
   "version": "3.4.3"
  }
 },
 "nbformat": 4,
 "nbformat_minor": 0
}
